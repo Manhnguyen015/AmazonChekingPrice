{
 "cells": [
  {
   "cell_type": "code",
   "execution_count": 1,
   "metadata": {},
   "outputs": [],
   "source": [
    "# import libraries\n",
    "import numpy as np;\n",
    "from bs4 import BeautifulSoup;\n",
    "import requests;\n",
    "import smtplib;\n",
    "import time;\n",
    "import datetime;\n",
    "\n",
    "\n",
    "\n",
    "\n"
   ]
  },
  {
   "cell_type": "code",
   "execution_count": 14,
   "metadata": {},
   "outputs": [
    {
     "name": "stdout",
     "output_type": "stream",
     "text": [
      "\n",
      "                        $22.50\n",
      "                       \n"
     ]
    }
   ],
   "source": [
    "#connect to website \n",
    "URL='https://www.amazon.com/realpeoplegoods-Data-Analyst-Gift-Scientist/dp/B093C5SF51/ref=sr_1_8?crid=1Z7LLG9OBSG2H&dib=eyJ2IjoiMSJ9.Omg5oXHuo3XX_uWMofCnb53Nj1rrNpyAnR-SHZRN7yCg987a4P722rynYFgLVOBG_1yt5AGkB6-0Ib-UJ8-T1EylvGnXY26KF2N3dF6wU99a3DQ0AR02JOex78GWJf6K21iV9RknQkBUifaH1kxQn_S12Mz7iTo6NATkYQ3VRnVjwD-CwyBfW9I-WOiUHSlb0O1oECK9HE6A_eVCULBiZubSx8tMAdzgZACDrvHzUYzdi-E7A39q2Xcp9YmG3oZ_.jf0FzO33GT9f_rw2Gw7OjFWB-RmeCRWYsAZNKc27eJk&dib_tag=se&keywords=data+analytics+tshirt&qid=1729106514&sprefix=data+analytics+tshirt%2Caps%2C193&sr=8-8'\n",
    "\n",
    "\n",
    "header = {\"User-Agent\": \"Mozilla/5.0 (Macintosh; Intel Mac OS X 10_15_7) AppleWebKit/537.36 (KHTML, like Gecko) Chrome/129.0.0.0 Safari/537.36\", \"Accept-Encoding\": \"gzip, deflate, br, zstd\", \"Accept\": \"text/html,application/xhtml+xml,application/xml;q=0.9,image/avif,image/webp,image/apng,*/*;q=0.8,application/signed-exchange;v=b3;q=0.9\", \"DNT\": \"1\", \"Connection\": \"close\", \"Upgrade-Insecure-Requests\": \"1\"};\n",
    "\n",
    "page = requests.get(URL, headers=header);\n",
    "\n",
    "soup1 = BeautifulSoup(page.content, 'html.parser');\n",
    "\n",
    "soup2 = BeautifulSoup(soup1.prettify(), 'html.parser');\n",
    "\n",
    "title = soup2.find(id='productTitle').get_text();\n",
    "\n",
    "price = soup2.find(class_='a-offscreen').get_text();\n",
    "\n",
    "\n",
    "\n",
    "\n",
    "\n"
   ]
  },
  {
   "cell_type": "code",
   "execution_count": 15,
   "metadata": {},
   "outputs": [
    {
     "name": "stdout",
     "output_type": "stream",
     "text": [
      "Data Analyst Gift - Data Analysis Shirt - Data Scientist Present - Funny Data Science - Talk Data to Me - Unisex Tee\n",
      "22.50\n"
     ]
    }
   ],
   "source": [
    "title = title.strip();\n",
    "price = price.strip()[1:];\n",
    "print(title);\n",
    "print(price);"
   ]
  },
  {
   "cell_type": "code",
   "execution_count": 25,
   "metadata": {},
   "outputs": [],
   "source": [
    "import datetime;\n",
    "today = datetime.date.today()\n"
   ]
  },
  {
   "cell_type": "code",
   "execution_count": 26,
   "metadata": {},
   "outputs": [],
   "source": [
    "import csv;\n",
    "\n",
    "header = ['Title', 'Price','Date'];\n",
    "data = [title, price, today];\n",
    "# with open('AmazonWebScraperDataset.csv', 'w', newline='', encoding='UTF8') as f:\n",
    "#   writer = csv.writer(f,quoting=csv.QUOTE_MINIMAL);\n",
    "#   writer.writerow(header);\n",
    "#   writer.writerow(data);\n"
   ]
  },
  {
   "cell_type": "code",
   "execution_count": 27,
   "metadata": {},
   "outputs": [
    {
     "name": "stdout",
     "output_type": "stream",
     "text": [
      "                                               Title  Price        Date\n",
      "0  Data Analyst Gift - Data Analysis Shirt - Data...   22.5  2024-10-17\n"
     ]
    }
   ],
   "source": [
    "import pandas as pd;\n",
    "df = pd.read_csv(r'/Users/trung/Desktop/pythonlovelace/AmazonWebScraperDataset.csv');\n",
    "print(df);"
   ]
  },
  {
   "cell_type": "code",
   "execution_count": 34,
   "metadata": {},
   "outputs": [],
   "source": [
    "def check_price():\n",
    "    URL='https://www.amazon.com/realpeoplegoods-Data-Analyst-Gift-Scientist/dp/B093C5SF51/ref=sr_1_8?crid=1Z7LLG9OBSG2H&dib=eyJ2IjoiMSJ9.Omg5oXHuo3XX_uWMofCnb53Nj1rrNpyAnR-SHZRN7yCg987a4P722rynYFgLVOBG_1yt5AGkB6-0Ib-UJ8-T1EylvGnXY26KF2N3dF6wU99a3DQ0AR02JOex78GWJf6K21iV9RknQkBUifaH1kxQn_S12Mz7iTo6NATkYQ3VRnVjwD-CwyBfW9I-WOiUHSlb0O1oECK9HE6A_eVCULBiZubSx8tMAdzgZACDrvHzUYzdi-E7A39q2Xcp9YmG3oZ_.jf0FzO33GT9f_rw2Gw7OjFWB-RmeCRWYsAZNKc27eJk&dib_tag=se&keywords=data+analytics+tshirt&qid=1729106514&sprefix=data+analytics+tshirt%2Caps%2C193&sr=8-8'\n",
    "\n",
    "\n",
    "header = {\"User-Agent\": \"Mozilla/5.0 (Macintosh; Intel Mac OS X 10_15_7) AppleWebKit/537.36 (KHTML, like Gecko) Chrome/129.0.0.0 Safari/537.36\", \"Accept-Encoding\": \"gzip, deflate, br, zstd\", \"Accept\": \"text/html,application/xhtml+xml,application/xml;q=0.9,image/avif,image/webp,image/apng,*/*;q=0.8,application/signed-exchange;v=b3;q=0.9\", \"DNT\": \"1\", \"Connection\": \"close\", \"Upgrade-Insecure-Requests\": \"1\"};\n",
    "\n",
    "page = requests.get(URL, headers=header);\n",
    "\n",
    "soup1 = BeautifulSoup(page.content, 'html.parser');\n",
    "\n",
    "soup2 = BeautifulSoup(soup1.prettify(), 'html.parser');\n",
    "\n",
    "title = soup2.find(id='productTitle').get_text().strip()\n",
    "\n",
    "price = soup2.find(class_='a-offscreen').get_text().strip()[1:];\n",
    "\n",
    "import datetime;\n",
    "today = datetime.date.today() ;\n",
    "\n",
    "import csv; \n",
    "header = ['Title', 'Price','Date'];\n",
    "data = [title, price, today];\n",
    "with open('AmazonWebScraperDataset.csv', 'a+', newline='', encoding='UTF8') as f:\n",
    "    writer = csv.writer(f);\n",
    "    writer.writerow(data);  \n",
    "\n",
    "if float(price) < 15:\n",
    "    send_mail();    \n",
    "\n",
    "    "
   ]
  },
  {
   "cell_type": "code",
   "execution_count": null,
   "metadata": {},
   "outputs": [],
   "source": [
    "def send_mail():\n",
    "    server = smtplib.SMTP_SSL('smtp.gmail.com', 465);\n",
    "    server.ehlo();\n",
    "    server.login('manhnguyen0101056@gmail.com','*********')\n",
    "    subject = \"The Shirt you want is below $15! Now is your chance to buy!\"\n",
    "    body='manh mua me m di'\n",
    "    msg = f\"Subject: {subject}\\n\\n{body}\"\n",
    "\n",
    "    server.sendmail('ducmanh01010105@gmail.com'.msg);\n",
    "\n",
    "    print('Email has been sent');"
   ]
  },
  {
   "cell_type": "code",
   "execution_count": null,
   "metadata": {},
   "outputs": [],
   "source": [
    "while(True):\n",
    "    check_price();\n",
    "    time.sleep(86400);"
   ]
  },
  {
   "cell_type": "code",
   "execution_count": null,
   "metadata": {},
   "outputs": [],
   "source": [
    "import pandas as pd;\n",
    "df = pd.read_csv(r'/Users/trung/Desktop/pythonlovelace/AmazonWebScraperDataset.csv');\n",
    "print(df);"
   ]
  }
 ],
 "metadata": {
  "kernelspec": {
   "display_name": "Python 3",
   "language": "python",
   "name": "python3"
  },
  "language_info": {
   "codemirror_mode": {
    "name": "ipython",
    "version": 3
   },
   "file_extension": ".py",
   "mimetype": "text/x-python",
   "name": "python",
   "nbconvert_exporter": "python",
   "pygments_lexer": "ipython3",
   "version": "3.11.5"
  }
 },
 "nbformat": 4,
 "nbformat_minor": 2
}
